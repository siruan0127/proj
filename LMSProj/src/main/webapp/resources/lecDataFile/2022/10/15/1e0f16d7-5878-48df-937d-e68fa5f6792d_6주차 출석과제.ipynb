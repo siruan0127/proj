{
 "cells": [
  {
   "cell_type": "code",
   "execution_count": 1,
   "metadata": {},
   "outputs": [],
   "source": [
    "import numpy as np\n",
    "import cv2\n",
    "\n",
    "img1 = cv2.imread('pic/fig_0_2.jpeg')\n",
    "img2 = cv2.imread('mask_9.png')\n",
    "\n",
    "img21 = cv2.resize(img2, (250,130), interpolation = cv2.INTER_LANCZOS4)\n",
    "roi = img1[125:255, 60:310,:]\n",
    "\n",
    "cv2.imshow('img1', img1)\n",
    "\n",
    "hsv = cv2.cvtColor(img21, cv2.COLOR_BGR2HSV)\n",
    "\n",
    "l_b = np.array([0, 0, 0])\n",
    "u_b = np.array([255, 161, 255])\n",
    "\n",
    "mask = cv2.inRange(hsv, l_b, u_b)\n",
    "\n",
    "mask_inv = cv2.bitwise_not(mask)\n",
    "\n",
    "roi_fg = cv2.bitwise_and(roi, roi, mask = mask_inv)\n",
    "img21_fg = cv2.bitwise_and(img21, img21, mask = mask)\n",
    "\n",
    "dst = cv2.add(roi_fg, img21_fg)\n",
    "\n",
    "img1[125:255, 60:310, :] = dst\n",
    "\n",
    "cv2.imshow('res', img1)\n",
    "cv2.waitKey(0)\n",
    "cv2.destroyAllWindows()"
   ]
  },
  {
   "cell_type": "code",
   "execution_count": null,
   "metadata": {},
   "outputs": [],
   "source": []
  }
 ],
 "metadata": {
  "kernelspec": {
   "display_name": "Python 3",
   "language": "python",
   "name": "python3"
  },
  "language_info": {
   "codemirror_mode": {
    "name": "ipython",
    "version": 3
   },
   "file_extension": ".py",
   "mimetype": "text/x-python",
   "name": "python",
   "nbconvert_exporter": "python",
   "pygments_lexer": "ipython3",
   "version": "3.7.6"
  }
 },
 "nbformat": 4,
 "nbformat_minor": 4
}
